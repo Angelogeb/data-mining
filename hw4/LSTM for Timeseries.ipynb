{
 "cells": [
  {
   "cell_type": "code",
   "execution_count": 1,
   "metadata": {},
   "outputs": [
    {
     "name": "stderr",
     "output_type": "stream",
     "text": [
      "Using TensorFlow backend.\n"
     ]
    }
   ],
   "source": [
    "import pandas as pd\n",
    "import numpy as np\n",
    "import matplotlib.pyplot as plt\n",
    "\n",
    "from datetime import datetime\n",
    "\n",
    "from keras.models import Sequential\n",
    "from keras.layers.recurrent import LSTM\n",
    "from keras.layers.core import Dense, Activation, Dropout\n",
    "from keras.losses import mean_absolute_error\n",
    "\n",
    "from lib import LSTM_model"
   ]
  },
  {
   "cell_type": "code",
   "execution_count": 2,
   "metadata": {},
   "outputs": [],
   "source": [
    "plt.ion()\n",
    "plt.style.use('seaborn-darkgrid')"
   ]
  },
  {
   "cell_type": "code",
   "execution_count": 3,
   "metadata": {},
   "outputs": [],
   "source": [
    "plt.rcParams[\"figure.figsize\"] = (18,9)\n",
    "plt.rcParams['lines.linewidth'] = 1"
   ]
  },
  {
   "cell_type": "markdown",
   "metadata": {},
   "source": [
    "The data about the bitcoin price is available from two different sources: Bitstamp and Coinbase. While the former is larger in terms of timesteps, it also has more NaN values thus making it less suitable for the task given that the bitcoin market had less activity in that time range."
   ]
  },
  {
   "cell_type": "code",
   "execution_count": 4,
   "metadata": {},
   "outputs": [],
   "source": [
    "bs_df = pd.read_csv('bitstampUSD_1-min_data_2012-01-01_to_2018-11-11.csv')"
   ]
  },
  {
   "cell_type": "markdown",
   "metadata": {},
   "source": [
    "### Data adjustments\n",
    "\n",
    "Having a glance over the data we can see that it shows stock market information (Close, Open, Volume.. values) of bitcoin at each minute. NaN values indicate that there was no activity (therefore we assume the prices remain the last valid value seen) during that minute while missing timestamps means that the data for that minute is missing therefore we decide to interpolate it"
   ]
  },
  {
   "cell_type": "code",
   "execution_count": 5,
   "metadata": {},
   "outputs": [],
   "source": [
    "df = pd.read_csv('coinbaseUSD_1-min_data_2014-12-01_to_2018-11-11.csv',\n",
    "                 dtype={\n",
    "                     'Timestamp': np.int64,\n",
    "                     'Open': np.float64,\n",
    "                     'High': np.float64,\n",
    "                     'Low': np.float64,\n",
    "                     'Close': np.float64,\n",
    "                     'Volume_(BTC)': np.float64,\n",
    "                     'Volume_(Currency)': np.float64,\n",
    "                     'Weighted_Price': np.float64\n",
    "                 }).sort_values(by=['Timestamp'])\n",
    "\n",
    "df['Open'].fillna(inplace=True, method='ffill')\n",
    "df['Close'].fillna(inplace=True, method='ffill')\n",
    "df['High'].fillna(inplace=True, method='ffill')\n",
    "df['Low'].fillna(inplace=True, method='ffill')\n",
    "df['Volume_(BTC)'].fillna(0, inplace=True)\n",
    "df['Volume_(Currency)'].fillna(0, inplace=True)"
   ]
  },
  {
   "cell_type": "markdown",
   "metadata": {},
   "source": [
    "In the following steps we ensure that data is truly present at each minute from 2014-12-01 to 2018-11-11 and then we interpolate "
   ]
  },
  {
   "cell_type": "code",
   "execution_count": 6,
   "metadata": {},
   "outputs": [],
   "source": [
    "df = df.set_index('Timestamp')\n",
    "\n",
    "# Ensure that there exists an instance for each minute\n",
    "df = df.reindex(range(df.index[0], df.index[-1], 60), fill_value=np.nan)\n",
    "\n",
    "df.reset_index(level=0, inplace=True)\n",
    "\n",
    "df['Timestamp'] = df['Timestamp'].apply(lambda t: datetime.utcfromtimestamp(t))"
   ]
  },
  {
   "cell_type": "markdown",
   "metadata": {},
   "source": [
    "### First 20 instances after the interpolation"
   ]
  },
  {
   "cell_type": "code",
   "execution_count": 7,
   "metadata": {},
   "outputs": [
    {
     "data": {
      "text/html": [
       "<div>\n",
       "<style scoped>\n",
       "    .dataframe tbody tr th:only-of-type {\n",
       "        vertical-align: middle;\n",
       "    }\n",
       "\n",
       "    .dataframe tbody tr th {\n",
       "        vertical-align: top;\n",
       "    }\n",
       "\n",
       "    .dataframe thead th {\n",
       "        text-align: right;\n",
       "    }\n",
       "</style>\n",
       "<table border=\"1\" class=\"dataframe\">\n",
       "  <thead>\n",
       "    <tr style=\"text-align: right;\">\n",
       "      <th></th>\n",
       "      <th>Timestamp</th>\n",
       "      <th>Open</th>\n",
       "      <th>High</th>\n",
       "      <th>Low</th>\n",
       "      <th>Close</th>\n",
       "      <th>Volume_(BTC)</th>\n",
       "      <th>Volume_(Currency)</th>\n",
       "      <th>Weighted_Price</th>\n",
       "    </tr>\n",
       "  </thead>\n",
       "  <tbody>\n",
       "    <tr>\n",
       "      <th>0</th>\n",
       "      <td>2014-12-01 05:33:00</td>\n",
       "      <td>300.0</td>\n",
       "      <td>300.0</td>\n",
       "      <td>300.0</td>\n",
       "      <td>300.0</td>\n",
       "      <td>0.01</td>\n",
       "      <td>3.0</td>\n",
       "      <td>300.000000</td>\n",
       "    </tr>\n",
       "    <tr>\n",
       "      <th>1</th>\n",
       "      <td>2014-12-01 05:34:00</td>\n",
       "      <td>300.0</td>\n",
       "      <td>300.0</td>\n",
       "      <td>300.0</td>\n",
       "      <td>300.0</td>\n",
       "      <td>0.00</td>\n",
       "      <td>0.0</td>\n",
       "      <td>300.000000</td>\n",
       "    </tr>\n",
       "    <tr>\n",
       "      <th>2</th>\n",
       "      <td>2014-12-01 05:35:00</td>\n",
       "      <td>300.0</td>\n",
       "      <td>300.0</td>\n",
       "      <td>300.0</td>\n",
       "      <td>300.0</td>\n",
       "      <td>0.00</td>\n",
       "      <td>0.0</td>\n",
       "      <td>300.000000</td>\n",
       "    </tr>\n",
       "    <tr>\n",
       "      <th>3</th>\n",
       "      <td>2014-12-01 05:36:00</td>\n",
       "      <td>300.0</td>\n",
       "      <td>300.0</td>\n",
       "      <td>300.0</td>\n",
       "      <td>300.0</td>\n",
       "      <td>0.00</td>\n",
       "      <td>0.0</td>\n",
       "      <td>300.000000</td>\n",
       "    </tr>\n",
       "    <tr>\n",
       "      <th>4</th>\n",
       "      <td>2014-12-01 05:37:00</td>\n",
       "      <td>300.0</td>\n",
       "      <td>300.0</td>\n",
       "      <td>300.0</td>\n",
       "      <td>300.0</td>\n",
       "      <td>0.00</td>\n",
       "      <td>0.0</td>\n",
       "      <td>300.000000</td>\n",
       "    </tr>\n",
       "    <tr>\n",
       "      <th>5</th>\n",
       "      <td>2014-12-01 05:38:00</td>\n",
       "      <td>300.0</td>\n",
       "      <td>300.0</td>\n",
       "      <td>300.0</td>\n",
       "      <td>300.0</td>\n",
       "      <td>0.00</td>\n",
       "      <td>0.0</td>\n",
       "      <td>300.000000</td>\n",
       "    </tr>\n",
       "    <tr>\n",
       "      <th>6</th>\n",
       "      <td>2014-12-01 05:39:00</td>\n",
       "      <td>300.0</td>\n",
       "      <td>300.0</td>\n",
       "      <td>300.0</td>\n",
       "      <td>300.0</td>\n",
       "      <td>0.00</td>\n",
       "      <td>0.0</td>\n",
       "      <td>300.000000</td>\n",
       "    </tr>\n",
       "    <tr>\n",
       "      <th>7</th>\n",
       "      <td>2014-12-01 05:40:00</td>\n",
       "      <td>300.0</td>\n",
       "      <td>300.0</td>\n",
       "      <td>300.0</td>\n",
       "      <td>300.0</td>\n",
       "      <td>0.01</td>\n",
       "      <td>3.0</td>\n",
       "      <td>300.000000</td>\n",
       "    </tr>\n",
       "    <tr>\n",
       "      <th>8</th>\n",
       "      <td>2014-12-01 05:41:00</td>\n",
       "      <td>300.0</td>\n",
       "      <td>300.0</td>\n",
       "      <td>300.0</td>\n",
       "      <td>300.0</td>\n",
       "      <td>0.00</td>\n",
       "      <td>0.0</td>\n",
       "      <td>301.590909</td>\n",
       "    </tr>\n",
       "    <tr>\n",
       "      <th>9</th>\n",
       "      <td>2014-12-01 05:42:00</td>\n",
       "      <td>300.0</td>\n",
       "      <td>300.0</td>\n",
       "      <td>300.0</td>\n",
       "      <td>300.0</td>\n",
       "      <td>0.00</td>\n",
       "      <td>0.0</td>\n",
       "      <td>303.181818</td>\n",
       "    </tr>\n",
       "    <tr>\n",
       "      <th>10</th>\n",
       "      <td>2014-12-01 05:43:00</td>\n",
       "      <td>300.0</td>\n",
       "      <td>300.0</td>\n",
       "      <td>300.0</td>\n",
       "      <td>300.0</td>\n",
       "      <td>0.00</td>\n",
       "      <td>0.0</td>\n",
       "      <td>304.772727</td>\n",
       "    </tr>\n",
       "    <tr>\n",
       "      <th>11</th>\n",
       "      <td>2014-12-01 05:44:00</td>\n",
       "      <td>300.0</td>\n",
       "      <td>300.0</td>\n",
       "      <td>300.0</td>\n",
       "      <td>300.0</td>\n",
       "      <td>0.00</td>\n",
       "      <td>0.0</td>\n",
       "      <td>306.363636</td>\n",
       "    </tr>\n",
       "    <tr>\n",
       "      <th>12</th>\n",
       "      <td>2014-12-01 05:45:00</td>\n",
       "      <td>300.0</td>\n",
       "      <td>300.0</td>\n",
       "      <td>300.0</td>\n",
       "      <td>300.0</td>\n",
       "      <td>0.00</td>\n",
       "      <td>0.0</td>\n",
       "      <td>307.954545</td>\n",
       "    </tr>\n",
       "    <tr>\n",
       "      <th>13</th>\n",
       "      <td>2014-12-01 05:46:00</td>\n",
       "      <td>300.0</td>\n",
       "      <td>300.0</td>\n",
       "      <td>300.0</td>\n",
       "      <td>300.0</td>\n",
       "      <td>0.00</td>\n",
       "      <td>0.0</td>\n",
       "      <td>309.545455</td>\n",
       "    </tr>\n",
       "    <tr>\n",
       "      <th>14</th>\n",
       "      <td>2014-12-01 05:47:00</td>\n",
       "      <td>300.0</td>\n",
       "      <td>300.0</td>\n",
       "      <td>300.0</td>\n",
       "      <td>300.0</td>\n",
       "      <td>0.00</td>\n",
       "      <td>0.0</td>\n",
       "      <td>311.136364</td>\n",
       "    </tr>\n",
       "    <tr>\n",
       "      <th>15</th>\n",
       "      <td>2014-12-01 05:48:00</td>\n",
       "      <td>300.0</td>\n",
       "      <td>300.0</td>\n",
       "      <td>300.0</td>\n",
       "      <td>300.0</td>\n",
       "      <td>0.00</td>\n",
       "      <td>0.0</td>\n",
       "      <td>312.727273</td>\n",
       "    </tr>\n",
       "    <tr>\n",
       "      <th>16</th>\n",
       "      <td>2014-12-01 05:49:00</td>\n",
       "      <td>300.0</td>\n",
       "      <td>300.0</td>\n",
       "      <td>300.0</td>\n",
       "      <td>300.0</td>\n",
       "      <td>0.00</td>\n",
       "      <td>0.0</td>\n",
       "      <td>314.318182</td>\n",
       "    </tr>\n",
       "    <tr>\n",
       "      <th>17</th>\n",
       "      <td>2014-12-01 05:50:00</td>\n",
       "      <td>300.0</td>\n",
       "      <td>300.0</td>\n",
       "      <td>300.0</td>\n",
       "      <td>300.0</td>\n",
       "      <td>0.00</td>\n",
       "      <td>0.0</td>\n",
       "      <td>315.909091</td>\n",
       "    </tr>\n",
       "    <tr>\n",
       "      <th>18</th>\n",
       "      <td>2014-12-01 05:51:00</td>\n",
       "      <td>300.0</td>\n",
       "      <td>300.0</td>\n",
       "      <td>300.0</td>\n",
       "      <td>300.0</td>\n",
       "      <td>0.00</td>\n",
       "      <td>0.0</td>\n",
       "      <td>317.500000</td>\n",
       "    </tr>\n",
       "    <tr>\n",
       "      <th>19</th>\n",
       "      <td>2014-12-01 05:52:00</td>\n",
       "      <td>300.0</td>\n",
       "      <td>300.0</td>\n",
       "      <td>300.0</td>\n",
       "      <td>300.0</td>\n",
       "      <td>0.00</td>\n",
       "      <td>0.0</td>\n",
       "      <td>319.090909</td>\n",
       "    </tr>\n",
       "  </tbody>\n",
       "</table>\n",
       "</div>"
      ],
      "text/plain": [
       "             Timestamp   Open   High    Low  Close  Volume_(BTC)  \\\n",
       "0  2014-12-01 05:33:00  300.0  300.0  300.0  300.0          0.01   \n",
       "1  2014-12-01 05:34:00  300.0  300.0  300.0  300.0          0.00   \n",
       "2  2014-12-01 05:35:00  300.0  300.0  300.0  300.0          0.00   \n",
       "3  2014-12-01 05:36:00  300.0  300.0  300.0  300.0          0.00   \n",
       "4  2014-12-01 05:37:00  300.0  300.0  300.0  300.0          0.00   \n",
       "5  2014-12-01 05:38:00  300.0  300.0  300.0  300.0          0.00   \n",
       "6  2014-12-01 05:39:00  300.0  300.0  300.0  300.0          0.00   \n",
       "7  2014-12-01 05:40:00  300.0  300.0  300.0  300.0          0.01   \n",
       "8  2014-12-01 05:41:00  300.0  300.0  300.0  300.0          0.00   \n",
       "9  2014-12-01 05:42:00  300.0  300.0  300.0  300.0          0.00   \n",
       "10 2014-12-01 05:43:00  300.0  300.0  300.0  300.0          0.00   \n",
       "11 2014-12-01 05:44:00  300.0  300.0  300.0  300.0          0.00   \n",
       "12 2014-12-01 05:45:00  300.0  300.0  300.0  300.0          0.00   \n",
       "13 2014-12-01 05:46:00  300.0  300.0  300.0  300.0          0.00   \n",
       "14 2014-12-01 05:47:00  300.0  300.0  300.0  300.0          0.00   \n",
       "15 2014-12-01 05:48:00  300.0  300.0  300.0  300.0          0.00   \n",
       "16 2014-12-01 05:49:00  300.0  300.0  300.0  300.0          0.00   \n",
       "17 2014-12-01 05:50:00  300.0  300.0  300.0  300.0          0.00   \n",
       "18 2014-12-01 05:51:00  300.0  300.0  300.0  300.0          0.00   \n",
       "19 2014-12-01 05:52:00  300.0  300.0  300.0  300.0          0.00   \n",
       "\n",
       "    Volume_(Currency)  Weighted_Price  \n",
       "0                 3.0      300.000000  \n",
       "1                 0.0      300.000000  \n",
       "2                 0.0      300.000000  \n",
       "3                 0.0      300.000000  \n",
       "4                 0.0      300.000000  \n",
       "5                 0.0      300.000000  \n",
       "6                 0.0      300.000000  \n",
       "7                 3.0      300.000000  \n",
       "8                 0.0      301.590909  \n",
       "9                 0.0      303.181818  \n",
       "10                0.0      304.772727  \n",
       "11                0.0      306.363636  \n",
       "12                0.0      307.954545  \n",
       "13                0.0      309.545455  \n",
       "14                0.0      311.136364  \n",
       "15                0.0      312.727273  \n",
       "16                0.0      314.318182  \n",
       "17                0.0      315.909091  \n",
       "18                0.0      317.500000  \n",
       "19                0.0      319.090909  "
      ]
     },
     "execution_count": 7,
     "metadata": {},
     "output_type": "execute_result"
    }
   ],
   "source": [
    "df.interpolate(inplace=True)\n",
    "df.head(20)"
   ]
  },
  {
   "cell_type": "markdown",
   "metadata": {},
   "source": [
    "Number of instances"
   ]
  },
  {
   "cell_type": "code",
   "execution_count": 8,
   "metadata": {},
   "outputs": [
    {
     "data": {
      "text/plain": [
       "2074707"
      ]
     },
     "execution_count": 8,
     "metadata": {},
     "output_type": "execute_result"
    }
   ],
   "source": [
    "len(df)"
   ]
  },
  {
   "cell_type": "code",
   "execution_count": 9,
   "metadata": {},
   "outputs": [
    {
     "data": {
      "text/plain": [
       "Text(0, 0.5, 'Mean Price ($)')"
      ]
     },
     "execution_count": 9,
     "metadata": {},
     "output_type": "execute_result"
    },
    {
     "data": {
      "image/png": "[encoded data removed]",
      "text/plain": [
       "<Figure size 1296x648 with 1 Axes>"
      ]
     },
     "metadata": {},
     "output_type": "display_data"
    }
   ],
   "source": [
    "plt.plot(range(df.shape[0]),(df['Low']+df['High'])/2.0)\n",
    "ts = df['Timestamp'].tolist()[::50000]\n",
    "xticks = (t.strftime('%Y-%m-%d') for t in ts)\n",
    "plt.xticks(range(0,df.shape[0],50000),xticks,rotation=90)\n",
    "plt.xlabel('Date',fontsize=15)\n",
    "plt.ylabel('Mean Price ($)',fontsize=15)"
   ]
  },
  {
   "cell_type": "markdown",
   "metadata": {},
   "source": [
    "## Observations\n",
    "\n",
    "### Evaluating Time Series Forecasting\n",
    "\n",
    "In time series forecasting we have to choose the input and the output of the model. We can choose for example to predict $x_{t + 1}$ at a given time $t$ by giving in input to the model $x_t$ or giving in input $(x_{t-k}, x_{t - k + 1},...,x_{t})$ where $k$ is the window size, i.e. how much of the past the predictor can observe. Both cases are called *One-Step Ahead* Forecasting.\n",
    "\n",
    "This can be useful in some cases, such as weather forecasting. In the case of trading though, we would like to predict far in the future. This can be done by iteratively letting the model predict the next values based *not* on the actual values of the window but on the previously predicted values i.e. given in input $(\\hat x_{t-k}, \\hat x_{t - k + 1},..., \\hat x_{t})$. This method might not work well if the model is trained in a one-step ahead fashion.\n",
    "\n",
    "We must be careful on how we evaluate our model since what can happen is that we feed the network the actual data $(x_{t-k}, x_{t - k + 1},...,x_{t})$ for multiple values of $t$ producing the predicted values $\\hat x_{t+1} \\approx x_t, \\hat x_{t+2} \\approx x_{t+1}, \\hat x_{t+3} \\approx x_{t+2}, \\hat x_{t+4} \\approx x_{t+3}$ (similar to the *Persistence Model*) which produces a good result in terms of *Mean Absolute Error* (since the data has some inertia in fluctuatng) but not really useful given that at each timestep the model can see the previous *actual* data and thus does not depend by previous wrong predictions."
   ]
  },
  {
   "cell_type": "markdown",
   "metadata": {},
   "source": [
    "![lag](images/lag.png)"
   ]
  },
  {
   "cell_type": "markdown",
   "metadata": {},
   "source": [
    "Alternatively we can perform a *Multi Step* Forecast i.e. letting the model predict the next $m$ values $x_{t+1}, ..., x_{t+m}$"
   ]
  },
  {
   "cell_type": "markdown",
   "metadata": {},
   "source": [
    "### Data Preprocessing\n",
    "\n",
    "Another issue we must consider is how to preprocess the data. We cannot normalize it over the full time period since given the spike of the BTC price in December 2017 a good portion of the data would be normalized close to 0.\n",
    "\n",
    "A good way would be to normalize the data in the time window, i.e. by representing each datapoint in the window as a ratio (positive or negative) of increase/decrease in value with respect to the first data point of the window. In this case the data points will be values in the range $[-1, 1]$ (for appropriates values of the window size and if the data is not too volatile) thus a good activation function would be $tanh$.\n",
    "\n",
    "Another way can be differencing the data which means mapping point $x_t$ to $x_t' = x_t - x_{t-1}$ and then normalize.\n",
    "\n",
    "The windows can either overlap or not."
   ]
  },
  {
   "cell_type": "markdown",
   "metadata": {},
   "source": [
    "## Map Data to Day granularity\n",
    "\n",
    "Given that the change of the values at the granularity of the minute is very small, we decide to group the data by day. We perform both 1 step ahead prediction and 5 steps ahead."
   ]
  },
  {
   "cell_type": "code",
   "execution_count": 10,
   "metadata": {
    "scrolled": false
   },
   "outputs": [
    {
     "data": {
      "text/html": [
       "<div>\n",
       "<style scoped>\n",
       "    .dataframe tbody tr th:only-of-type {\n",
       "        vertical-align: middle;\n",
       "    }\n",
       "\n",
       "    .dataframe tbody tr th {\n",
       "        vertical-align: top;\n",
       "    }\n",
       "\n",
       "    .dataframe thead th {\n",
       "        text-align: right;\n",
       "    }\n",
       "</style>\n",
       "<table border=\"1\" class=\"dataframe\">\n",
       "  <thead>\n",
       "    <tr style=\"text-align: right;\">\n",
       "      <th></th>\n",
       "      <th>Date</th>\n",
       "      <th>Open</th>\n",
       "      <th>Close</th>\n",
       "      <th>Low</th>\n",
       "      <th>High</th>\n",
       "      <th>Volume_(BTC)</th>\n",
       "      <th>Mean</th>\n",
       "    </tr>\n",
       "  </thead>\n",
       "  <tbody>\n",
       "    <tr>\n",
       "      <th>0</th>\n",
       "      <td>2014-12-01</td>\n",
       "      <td>300.000000</td>\n",
       "      <td>370.000000</td>\n",
       "      <td>300.000000</td>\n",
       "      <td>370.000000</td>\n",
       "      <td>0.056556</td>\n",
       "      <td>370.000000</td>\n",
       "    </tr>\n",
       "    <tr>\n",
       "      <th>1</th>\n",
       "      <td>2014-12-02</td>\n",
       "      <td>370.000000</td>\n",
       "      <td>378.000000</td>\n",
       "      <td>370.000000</td>\n",
       "      <td>378.000000</td>\n",
       "      <td>15.013600</td>\n",
       "      <td>378.000000</td>\n",
       "    </tr>\n",
       "    <tr>\n",
       "      <th>2</th>\n",
       "      <td>2014-12-03</td>\n",
       "      <td>378.000000</td>\n",
       "      <td>378.000000</td>\n",
       "      <td>377.010000</td>\n",
       "      <td>378.000000</td>\n",
       "      <td>0.546608</td>\n",
       "      <td>378.000000</td>\n",
       "    </tr>\n",
       "    <tr>\n",
       "      <th>3</th>\n",
       "      <td>2014-12-04</td>\n",
       "      <td>378.000000</td>\n",
       "      <td>377.516951</td>\n",
       "      <td>377.100000</td>\n",
       "      <td>378.000000</td>\n",
       "      <td>14.862718</td>\n",
       "      <td>377.758475</td>\n",
       "    </tr>\n",
       "    <tr>\n",
       "      <th>4</th>\n",
       "      <td>2014-12-05</td>\n",
       "      <td>377.517264</td>\n",
       "      <td>377.968047</td>\n",
       "      <td>377.517264</td>\n",
       "      <td>377.968047</td>\n",
       "      <td>19.541246</td>\n",
       "      <td>377.968047</td>\n",
       "    </tr>\n",
       "    <tr>\n",
       "      <th>5</th>\n",
       "      <td>2014-12-06</td>\n",
       "      <td>377.968361</td>\n",
       "      <td>377.026909</td>\n",
       "      <td>377.026909</td>\n",
       "      <td>378.000000</td>\n",
       "      <td>69.366556</td>\n",
       "      <td>377.513455</td>\n",
       "    </tr>\n",
       "    <tr>\n",
       "      <th>6</th>\n",
       "      <td>2014-12-07</td>\n",
       "      <td>377.029428</td>\n",
       "      <td>375.979636</td>\n",
       "      <td>375.979636</td>\n",
       "      <td>377.029428</td>\n",
       "      <td>179.692800</td>\n",
       "      <td>376.504532</td>\n",
       "    </tr>\n",
       "    <tr>\n",
       "      <th>7</th>\n",
       "      <td>2014-12-08</td>\n",
       "      <td>375.985646</td>\n",
       "      <td>376.261203</td>\n",
       "      <td>375.000000</td>\n",
       "      <td>376.270654</td>\n",
       "      <td>289.471801</td>\n",
       "      <td>376.265929</td>\n",
       "    </tr>\n",
       "    <tr>\n",
       "      <th>8</th>\n",
       "      <td>2014-12-09</td>\n",
       "      <td>376.284210</td>\n",
       "      <td>395.789505</td>\n",
       "      <td>376.274764</td>\n",
       "      <td>395.790466</td>\n",
       "      <td>182.990802</td>\n",
       "      <td>395.789985</td>\n",
       "    </tr>\n",
       "    <tr>\n",
       "      <th>9</th>\n",
       "      <td>2014-12-10</td>\n",
       "      <td>395.804021</td>\n",
       "      <td>368.564913</td>\n",
       "      <td>360.500000</td>\n",
       "      <td>398.000000</td>\n",
       "      <td>27.285516</td>\n",
       "      <td>383.282456</td>\n",
       "    </tr>\n",
       "    <tr>\n",
       "      <th>10</th>\n",
       "      <td>2014-12-11</td>\n",
       "      <td>368.571233</td>\n",
       "      <td>377.666382</td>\n",
       "      <td>368.571233</td>\n",
       "      <td>377.666382</td>\n",
       "      <td>53.688828</td>\n",
       "      <td>377.666382</td>\n",
       "    </tr>\n",
       "    <tr>\n",
       "      <th>11</th>\n",
       "      <td>2014-12-12</td>\n",
       "      <td>377.672702</td>\n",
       "      <td>348.745605</td>\n",
       "      <td>348.745605</td>\n",
       "      <td>379.000000</td>\n",
       "      <td>2439.347233</td>\n",
       "      <td>363.872802</td>\n",
       "    </tr>\n",
       "    <tr>\n",
       "      <th>12</th>\n",
       "      <td>2014-12-13</td>\n",
       "      <td>349.372285</td>\n",
       "      <td>347.256463</td>\n",
       "      <td>347.256463</td>\n",
       "      <td>349.372285</td>\n",
       "      <td>2880.000000</td>\n",
       "      <td>348.314374</td>\n",
       "    </tr>\n",
       "    <tr>\n",
       "      <th>13</th>\n",
       "      <td>2014-12-14</td>\n",
       "      <td>348.627715</td>\n",
       "      <td>345.767322</td>\n",
       "      <td>345.767322</td>\n",
       "      <td>348.627715</td>\n",
       "      <td>2880.000000</td>\n",
       "      <td>347.197518</td>\n",
       "    </tr>\n",
       "    <tr>\n",
       "      <th>14</th>\n",
       "      <td>2014-12-15</td>\n",
       "      <td>347.883144</td>\n",
       "      <td>344.278180</td>\n",
       "      <td>344.278180</td>\n",
       "      <td>347.883144</td>\n",
       "      <td>2880.000000</td>\n",
       "      <td>346.080662</td>\n",
       "    </tr>\n",
       "    <tr>\n",
       "      <th>15</th>\n",
       "      <td>2014-12-16</td>\n",
       "      <td>347.138573</td>\n",
       "      <td>342.789038</td>\n",
       "      <td>342.789038</td>\n",
       "      <td>347.138573</td>\n",
       "      <td>2880.000000</td>\n",
       "      <td>344.963806</td>\n",
       "    </tr>\n",
       "    <tr>\n",
       "      <th>16</th>\n",
       "      <td>2014-12-17</td>\n",
       "      <td>346.394002</td>\n",
       "      <td>341.299897</td>\n",
       "      <td>341.299897</td>\n",
       "      <td>346.394002</td>\n",
       "      <td>2880.000000</td>\n",
       "      <td>343.846949</td>\n",
       "    </tr>\n",
       "    <tr>\n",
       "      <th>17</th>\n",
       "      <td>2014-12-18</td>\n",
       "      <td>345.649431</td>\n",
       "      <td>340.125912</td>\n",
       "      <td>340.000000</td>\n",
       "      <td>345.649431</td>\n",
       "      <td>2878.847405</td>\n",
       "      <td>342.887671</td>\n",
       "    </tr>\n",
       "    <tr>\n",
       "      <th>18</th>\n",
       "      <td>2014-12-19</td>\n",
       "      <td>345.094950</td>\n",
       "      <td>341.116692</td>\n",
       "      <td>340.126600</td>\n",
       "      <td>345.837519</td>\n",
       "      <td>2790.930590</td>\n",
       "      <td>343.477105</td>\n",
       "    </tr>\n",
       "    <tr>\n",
       "      <th>19</th>\n",
       "      <td>2014-12-20</td>\n",
       "      <td>345.838035</td>\n",
       "      <td>342.107472</td>\n",
       "      <td>341.117380</td>\n",
       "      <td>346.580604</td>\n",
       "      <td>2648.971598</td>\n",
       "      <td>344.344038</td>\n",
       "    </tr>\n",
       "  </tbody>\n",
       "</table>\n",
       "</div>"
      ],
      "text/plain": [
       "          Date        Open       Close         Low        High  Volume_(BTC)  \\\n",
       "0   2014-12-01  300.000000  370.000000  300.000000  370.000000      0.056556   \n",
       "1   2014-12-02  370.000000  378.000000  370.000000  378.000000     15.013600   \n",
       "2   2014-12-03  378.000000  378.000000  377.010000  378.000000      0.546608   \n",
       "3   2014-12-04  378.000000  377.516951  377.100000  378.000000     14.862718   \n",
       "4   2014-12-05  377.517264  377.968047  377.517264  377.968047     19.541246   \n",
       "5   2014-12-06  377.968361  377.026909  377.026909  378.000000     69.366556   \n",
       "6   2014-12-07  377.029428  375.979636  375.979636  377.029428    179.692800   \n",
       "7   2014-12-08  375.985646  376.261203  375.000000  376.270654    289.471801   \n",
       "8   2014-12-09  376.284210  395.789505  376.274764  395.790466    182.990802   \n",
       "9   2014-12-10  395.804021  368.564913  360.500000  398.000000     27.285516   \n",
       "10  2014-12-11  368.571233  377.666382  368.571233  377.666382     53.688828   \n",
       "11  2014-12-12  377.672702  348.745605  348.745605  379.000000   2439.347233   \n",
       "12  2014-12-13  349.372285  347.256463  347.256463  349.372285   2880.000000   \n",
       "13  2014-12-14  348.627715  345.767322  345.767322  348.627715   2880.000000   \n",
       "14  2014-12-15  347.883144  344.278180  344.278180  347.883144   2880.000000   \n",
       "15  2014-12-16  347.138573  342.789038  342.789038  347.138573   2880.000000   \n",
       "16  2014-12-17  346.394002  341.299897  341.299897  346.394002   2880.000000   \n",
       "17  2014-12-18  345.649431  340.125912  340.000000  345.649431   2878.847405   \n",
       "18  2014-12-19  345.094950  341.116692  340.126600  345.837519   2790.930590   \n",
       "19  2014-12-20  345.838035  342.107472  341.117380  346.580604   2648.971598   \n",
       "\n",
       "          Mean  \n",
       "0   370.000000  \n",
       "1   378.000000  \n",
       "2   378.000000  \n",
       "3   377.758475  \n",
       "4   377.968047  \n",
       "5   377.513455  \n",
       "6   376.504532  \n",
       "7   376.265929  \n",
       "8   395.789985  \n",
       "9   383.282456  \n",
       "10  377.666382  \n",
       "11  363.872802  \n",
       "12  348.314374  \n",
       "13  347.197518  \n",
       "14  346.080662  \n",
       "15  344.963806  \n",
       "16  343.846949  \n",
       "17  342.887671  \n",
       "18  343.477105  \n",
       "19  344.344038  "
      ]
     },
     "execution_count": 10,
     "metadata": {},
     "output_type": "execute_result"
    }
   ],
   "source": [
    "df['Date'] = df['Timestamp'].apply(lambda t: t.date())\n",
    "daily_info = df.groupby('Date').agg({\n",
    "    'Open': lambda opens: opens.iloc[0],     # Opening value of the day\n",
    "    'Close': lambda closes: closes.iloc[-1], # Closing value of the day\n",
    "    'Low' : np.min,                          # Lowest value of the day\n",
    "    'High': np.max,                          # Highest value of the day\n",
    "    'Volume_(BTC)': np.sum                   # Sum of the volumes of the minutes in the day\n",
    "}).reset_index(level=0)\n",
    "daily_info['Mean'] = (daily_info['High'] + daily_info['Close']) / 2\n",
    "daily_info.head(20)"
   ]
  },
  {
   "cell_type": "code",
   "execution_count": 11,
   "metadata": {
    "scrolled": true
   },
   "outputs": [
    {
     "data": {
      "text/plain": [
       "1441"
      ]
     },
     "execution_count": 11,
     "metadata": {},
     "output_type": "execute_result"
    }
   ],
   "source": [
    "len(daily_info) # Number of days for which data is present or interpolated"
   ]
  },
  {
   "cell_type": "markdown",
   "metadata": {},
   "source": [
    "## Model"
   ]
  },
  {
   "cell_type": "markdown",
   "metadata": {},
   "source": [
    "### Transform each window\n",
    "\n",
    "Each window is \"normalized\" thus representing each value as percentage in increase or decrease of the first value in the window\n",
    "\n",
    "$$\n",
    "    \\mathbf{w}' = \\frac{\\mathbf{w}}{w_0} - 1\n",
    "$$"
   ]
  },
  {
   "cell_type": "markdown",
   "metadata": {},
   "source": [
    "<img src=\"images/lstm.png\" width=\"50%\">"
   ]
  },
  {
   "cell_type": "code",
   "execution_count": null,
   "metadata": {},
   "outputs": [],
   "source": [
    "IN_TIMESTEPS  = 15\n",
    "OUT_TIMESTEPS = 1\n",
    "TRAIN_RATIO = 0.7\n",
    "X_cols = [\"Open\", \"Close\", \"Mean\"]\n",
    "Y_cols = [\"Mean\"]\n",
    "\n",
    "EPOCHS = 10**3\n",
    "BATCH_SZ = 256"
   ]
  },
  {
   "cell_type": "code",
   "execution_count": null,
   "metadata": {
    "scrolled": true
   },
   "outputs": [],
   "source": [
    "def build_lstm_nn(timesteps, out_size, input_shape):\n",
    "    return Sequential([\n",
    "        LSTM(\n",
    "            out_size,\n",
    "            input_shape=(timesteps, input_shape))\n",
    "    ])"
   ]
  },
  {
   "cell_type": "code",
   "execution_count": null,
   "metadata": {},
   "outputs": [],
   "source": [
    "model = LSTM_model(\n",
    "    in_timesteps=IN_TIMESTEPS, out_timesteps=OUT_TIMESTEPS,\n",
    "    x_cols=X_cols, y_cols=Y_cols, step_col=\"Date\", train_ratio=TRAIN_RATIO, model = build_lstm_nn\n",
    ").data(daily_info).fit(epochs=EPOCHS)"
   ]
  },
  {
   "cell_type": "code",
   "execution_count": null,
   "metadata": {},
   "outputs": [],
   "source": [
    "time, pred, true = model.get_pred_test_pair()\n",
    "plt.plot(time, true, label='true')\n",
    "plt.plot(time, model.orig_test[0][:,-1,2], label=str(OUT_TIMESTEPS) + '-lag')\n",
    "plt.plot(time, pred, label='predicted')\n",
    "plt.legend(loc='upper right', frameon=False)\n",
    "print(f'LSTM test MAE: {model.get_test_mae()},  LAG test MAE: {np.abs(model.orig_test[0][:,-1,2] - true).mean()}')\n",
    "print(f'LSTM train MAE: {model.get_train_mae()}')"
   ]
  },
  {
   "cell_type": "markdown",
   "metadata": {},
   "source": [
    "As we can see the model is good in one step ahead prediction"
   ]
  },
  {
   "cell_type": "markdown",
   "metadata": {},
   "source": [
    "### 4 Steps Ahead prediction"
   ]
  },
  {
   "cell_type": "code",
   "execution_count": null,
   "metadata": {
    "scrolled": true
   },
   "outputs": [],
   "source": [
    "OUT_TIMESTEPS = 4\n",
    "\n",
    "model = LSTM_model(\n",
    "    in_timesteps=IN_TIMESTEPS, out_timesteps=OUT_TIMESTEPS,\n",
    "    x_cols=X_cols, y_cols=Y_cols, step_col=\"Date\", train_ratio=TRAIN_RATIO, model = build_lstm_nn\n",
    ").data(daily_info).fit(epochs=EPOCHS)"
   ]
  },
  {
   "cell_type": "code",
   "execution_count": null,
   "metadata": {},
   "outputs": [],
   "source": [
    "time, pred, true = model.get_pred_test_pair()\n",
    "lag = model.orig_test[0][:,-OUT_TIMESTEPS::OUT_TIMESTEPS,-1].reshape(-1)\n",
    "plt.plot(time, true, label='true')\n",
    "plt.plot(time[:-1], lag, label=str(OUT_TIMESTEPS) + '-lag')\n",
    "plt.plot(time, pred, label='predicted')\n",
    "plt.legend(loc='upper right', frameon=False)\n",
    "print(f'LSTM test MAE: {model.get_test_mae()},  LAG test MAE: {np.abs(lag - true[:-1]).mean()}')\n",
    "print(f'LSTM train MAE: {model.get_train_mae()}')"
   ]
  },
  {
   "cell_type": "markdown",
   "metadata": {},
   "source": [
    "## DQN Trader"
   ]
  },
  {
   "cell_type": "code",
   "execution_count": 12,
   "metadata": {},
   "outputs": [],
   "source": [
    "import dqn"
   ]
  },
  {
   "cell_type": "code",
   "execution_count": 13,
   "metadata": {},
   "outputs": [],
   "source": [
    "train_days = daily_info.loc[daily_info['Date'] < datetime(2018, 1, 1).date()]\n",
    "test_days = daily_info.loc[daily_info['Date'] >= datetime(2018, 1, 1).date()]"
   ]
  },
  {
   "cell_type": "code",
   "execution_count": 14,
   "metadata": {},
   "outputs": [],
   "source": [
    "BUDGET = 10_000 # dollarz\n",
    "WINDOW = 15\n",
    "EPISODES = 4\n",
    "BATCH_SZ = 64\n",
    "\n",
    "btc_env = dqn.BitcoinStockEnvironment(train_days['Mean'].values, BUDGET, WINDOW)\n",
    "trader_agent = dqn.DQNAgent(WINDOW, 2)"
   ]
  },
  {
   "cell_type": "code",
   "execution_count": 15,
   "metadata": {
    "scrolled": false
   },
   "outputs": [],
   "source": [
    "def plt_choices(days, results):\n",
    "    x = np.array(range(len(days)))\n",
    "    plt.plot(x, days)\n",
    "    bought_x = x[results == 0]\n",
    "    bought = days[results == 0]\n",
    "    sold_x = x[results ==  1]\n",
    "    sold = days[results == 1]\n",
    "    plt.plot(bought_x, bought, 'g^')\n",
    "    plt.plot(sold_x, sold, 'rv')\n",
    "    plt.show()\n",
    "    \n",
    "def test_trader(trader_agent, btc_env):\n",
    "    old_state = trader_agent.training\n",
    "    trader_agent.training = False\n",
    "    actions = []\n",
    "    btcs = []\n",
    "    budget = []\n",
    "    rewards = []\n",
    "    done = False\n",
    "    state = btc_env.reset().reshape((1, WINDOW + 2))\n",
    "    while not done:\n",
    "        action = trader_agent.act(state)\n",
    "        next_state, reward, done = btc_env.step(action)\n",
    "        next_state = next_state.reshape((1, WINDOW + 2))\n",
    "        state = next_state\n",
    "        actions.append(action)\n",
    "        budget.append(btc_env.budget)\n",
    "        btcs.append(btc_env.btc)\n",
    "        rewards.append(reward)\n",
    "\n",
    "    trader_agent.training = old_state\n",
    "    return actions, rewards, btcs, budget\n",
    "\n"
   ]
  },
  {
   "cell_type": "code",
   "execution_count": 17,
   "metadata": {
    "scrolled": false
   },
   "outputs": [
    {
     "name": "stdout",
     "output_type": "stream",
     "text": [
      "Episode: 0\n",
      "Btc: 0\n",
      "Budget: 10000\n",
      "Btc: 0.0\n",
      "Budget: 9765.557064755241\n",
      "Btc: 0.0\n",
      "Budget: 9733.144564755243\n",
      "Btc: 0.0\n",
      "Budget: 9736.349564755243\n",
      "Btc: 0.0\n",
      "Budget: 9736.349564755243\n",
      "Btc: 0.0\n",
      "Budget: 9739.292064755242\n",
      "Btc: 0.0\n",
      "Budget: 9739.292064755242\n",
      "Btc: 0.0\n",
      "Budget: 9739.292064755242\n",
      "Btc: 0.0\n",
      "Budget: 9739.292064755242\n"
     ]
    },
    {
     "ename": "KeyboardInterrupt",
     "evalue": "",
     "output_type": "error",
     "traceback": [
      "\u001b[0;31m---------------------------------------------------------------------------\u001b[0m",
      "\u001b[0;31mKeyboardInterrupt\u001b[0m                         Traceback (most recent call last)",
      "\u001b[0;32m<ipython-input-17-b1b0be8d247c>\u001b[0m in \u001b[0;36m<module>\u001b[0;34m\u001b[0m\n\u001b[1;32m     17\u001b[0m             \u001b[0;32mbreak\u001b[0m\u001b[0;34m\u001b[0m\u001b[0;34m\u001b[0m\u001b[0m\n\u001b[1;32m     18\u001b[0m         \u001b[0;32mif\u001b[0m \u001b[0mlen\u001b[0m\u001b[0;34m(\u001b[0m\u001b[0mtrader_agent\u001b[0m\u001b[0;34m.\u001b[0m\u001b[0mmemory\u001b[0m\u001b[0;34m)\u001b[0m \u001b[0;34m>\u001b[0m \u001b[0;36m64\u001b[0m\u001b[0;34m:\u001b[0m\u001b[0;34m\u001b[0m\u001b[0;34m\u001b[0m\u001b[0m\n\u001b[0;32m---> 19\u001b[0;31m             \u001b[0mtrader_agent\u001b[0m\u001b[0;34m.\u001b[0m\u001b[0mreplay\u001b[0m\u001b[0;34m(\u001b[0m\u001b[0mBATCH_SZ\u001b[0m\u001b[0;34m)\u001b[0m\u001b[0;34m\u001b[0m\u001b[0;34m\u001b[0m\u001b[0m\n\u001b[0m\u001b[1;32m     20\u001b[0m \u001b[0;34m\u001b[0m\u001b[0m\n\u001b[1;32m     21\u001b[0m     \u001b[0mplt_choices\u001b[0m\u001b[0;34m(\u001b[0m\u001b[0mtrain_days\u001b[0m\u001b[0;34m[\u001b[0m\u001b[0;34m'Mean'\u001b[0m\u001b[0;34m]\u001b[0m\u001b[0;34m.\u001b[0m\u001b[0mvalues\u001b[0m\u001b[0;34m[\u001b[0m\u001b[0mWINDOW\u001b[0m\u001b[0;34m:\u001b[0m\u001b[0;34m]\u001b[0m\u001b[0;34m,\u001b[0m \u001b[0mnp\u001b[0m\u001b[0;34m.\u001b[0m\u001b[0marray\u001b[0m\u001b[0;34m(\u001b[0m\u001b[0mactions\u001b[0m\u001b[0;34m)\u001b[0m\u001b[0;34m)\u001b[0m\u001b[0;34m\u001b[0m\u001b[0;34m\u001b[0m\u001b[0m\n",
      "\u001b[0;32m~/Desktop/data-mining/homeworks/hw4/dqn.py\u001b[0m in \u001b[0;36mreplay\u001b[0;34m(self, batch_size)\u001b[0m\n\u001b[1;32m     54\u001b[0m             \u001b[0mtarget_f\u001b[0m \u001b[0;34m=\u001b[0m \u001b[0mself\u001b[0m\u001b[0;34m.\u001b[0m\u001b[0mmodel\u001b[0m\u001b[0;34m.\u001b[0m\u001b[0mpredict\u001b[0m\u001b[0;34m(\u001b[0m\u001b[0mstate\u001b[0m\u001b[0;34m)\u001b[0m\u001b[0;34m\u001b[0m\u001b[0;34m\u001b[0m\u001b[0m\n\u001b[1;32m     55\u001b[0m             \u001b[0mtarget_f\u001b[0m\u001b[0;34m[\u001b[0m\u001b[0;36m0\u001b[0m\u001b[0;34m]\u001b[0m\u001b[0;34m[\u001b[0m\u001b[0maction\u001b[0m\u001b[0;34m]\u001b[0m \u001b[0;34m=\u001b[0m \u001b[0mtarget\u001b[0m\u001b[0;34m\u001b[0m\u001b[0;34m\u001b[0m\u001b[0m\n\u001b[0;32m---> 56\u001b[0;31m             \u001b[0mself\u001b[0m\u001b[0;34m.\u001b[0m\u001b[0mmodel\u001b[0m\u001b[0;34m.\u001b[0m\u001b[0mfit\u001b[0m\u001b[0;34m(\u001b[0m\u001b[0mstate\u001b[0m\u001b[0;34m,\u001b[0m \u001b[0mtarget_f\u001b[0m\u001b[0;34m,\u001b[0m \u001b[0mepochs\u001b[0m\u001b[0;34m=\u001b[0m\u001b[0;36m1\u001b[0m\u001b[0;34m,\u001b[0m \u001b[0mverbose\u001b[0m\u001b[0;34m=\u001b[0m\u001b[0;36m0\u001b[0m\u001b[0;34m)\u001b[0m\u001b[0;34m\u001b[0m\u001b[0;34m\u001b[0m\u001b[0m\n\u001b[0m\u001b[1;32m     57\u001b[0m         \u001b[0;32mif\u001b[0m \u001b[0mself\u001b[0m\u001b[0;34m.\u001b[0m\u001b[0mepsilon\u001b[0m \u001b[0;34m>\u001b[0m \u001b[0mself\u001b[0m\u001b[0;34m.\u001b[0m\u001b[0mepsilon_min\u001b[0m\u001b[0;34m:\u001b[0m\u001b[0;34m\u001b[0m\u001b[0;34m\u001b[0m\u001b[0m\n\u001b[1;32m     58\u001b[0m             \u001b[0mself\u001b[0m\u001b[0;34m.\u001b[0m\u001b[0mepsilon\u001b[0m \u001b[0;34m*=\u001b[0m \u001b[0mself\u001b[0m\u001b[0;34m.\u001b[0m\u001b[0mepsilon_decay\u001b[0m\u001b[0;34m\u001b[0m\u001b[0;34m\u001b[0m\u001b[0m\n",
      "\u001b[0;32m~/miniconda3/envs/tensorflow/lib/python3.6/site-packages/keras/engine/training.py\u001b[0m in \u001b[0;36mfit\u001b[0;34m(self, x, y, batch_size, epochs, verbose, callbacks, validation_split, validation_data, shuffle, class_weight, sample_weight, initial_epoch, steps_per_epoch, validation_steps, **kwargs)\u001b[0m\n\u001b[1;32m   1037\u001b[0m                                         \u001b[0minitial_epoch\u001b[0m\u001b[0;34m=\u001b[0m\u001b[0minitial_epoch\u001b[0m\u001b[0;34m,\u001b[0m\u001b[0;34m\u001b[0m\u001b[0;34m\u001b[0m\u001b[0m\n\u001b[1;32m   1038\u001b[0m                                         \u001b[0msteps_per_epoch\u001b[0m\u001b[0;34m=\u001b[0m\u001b[0msteps_per_epoch\u001b[0m\u001b[0;34m,\u001b[0m\u001b[0;34m\u001b[0m\u001b[0;34m\u001b[0m\u001b[0m\n\u001b[0;32m-> 1039\u001b[0;31m                                         validation_steps=validation_steps)\n\u001b[0m\u001b[1;32m   1040\u001b[0m \u001b[0;34m\u001b[0m\u001b[0m\n\u001b[1;32m   1041\u001b[0m     def evaluate(self, x=None, y=None,\n",
      "\u001b[0;32m~/miniconda3/envs/tensorflow/lib/python3.6/site-packages/keras/engine/training_arrays.py\u001b[0m in \u001b[0;36mfit_loop\u001b[0;34m(model, f, ins, out_labels, batch_size, epochs, verbose, callbacks, val_f, val_ins, shuffle, callback_metrics, initial_epoch, steps_per_epoch, validation_steps)\u001b[0m\n\u001b[1;32m    197\u001b[0m                     \u001b[0mins_batch\u001b[0m\u001b[0;34m[\u001b[0m\u001b[0mi\u001b[0m\u001b[0;34m]\u001b[0m \u001b[0;34m=\u001b[0m \u001b[0mins_batch\u001b[0m\u001b[0;34m[\u001b[0m\u001b[0mi\u001b[0m\u001b[0;34m]\u001b[0m\u001b[0;34m.\u001b[0m\u001b[0mtoarray\u001b[0m\u001b[0;34m(\u001b[0m\u001b[0;34m)\u001b[0m\u001b[0;34m\u001b[0m\u001b[0;34m\u001b[0m\u001b[0m\n\u001b[1;32m    198\u001b[0m \u001b[0;34m\u001b[0m\u001b[0m\n\u001b[0;32m--> 199\u001b[0;31m                 \u001b[0mouts\u001b[0m \u001b[0;34m=\u001b[0m \u001b[0mf\u001b[0m\u001b[0;34m(\u001b[0m\u001b[0mins_batch\u001b[0m\u001b[0;34m)\u001b[0m\u001b[0;34m\u001b[0m\u001b[0;34m\u001b[0m\u001b[0m\n\u001b[0m\u001b[1;32m    200\u001b[0m                 \u001b[0mouts\u001b[0m \u001b[0;34m=\u001b[0m \u001b[0mto_list\u001b[0m\u001b[0;34m(\u001b[0m\u001b[0mouts\u001b[0m\u001b[0;34m)\u001b[0m\u001b[0;34m\u001b[0m\u001b[0;34m\u001b[0m\u001b[0m\n\u001b[1;32m    201\u001b[0m                 \u001b[0;32mfor\u001b[0m \u001b[0ml\u001b[0m\u001b[0;34m,\u001b[0m \u001b[0mo\u001b[0m \u001b[0;32min\u001b[0m \u001b[0mzip\u001b[0m\u001b[0;34m(\u001b[0m\u001b[0mout_labels\u001b[0m\u001b[0;34m,\u001b[0m \u001b[0mouts\u001b[0m\u001b[0;34m)\u001b[0m\u001b[0;34m:\u001b[0m\u001b[0;34m\u001b[0m\u001b[0;34m\u001b[0m\u001b[0m\n",
      "\u001b[0;32m~/miniconda3/envs/tensorflow/lib/python3.6/site-packages/keras/backend/tensorflow_backend.py\u001b[0m in \u001b[0;36m__call__\u001b[0;34m(self, inputs)\u001b[0m\n\u001b[1;32m   2713\u001b[0m                 \u001b[0;32mreturn\u001b[0m \u001b[0mself\u001b[0m\u001b[0;34m.\u001b[0m\u001b[0m_legacy_call\u001b[0m\u001b[0;34m(\u001b[0m\u001b[0minputs\u001b[0m\u001b[0;34m)\u001b[0m\u001b[0;34m\u001b[0m\u001b[0;34m\u001b[0m\u001b[0m\n\u001b[1;32m   2714\u001b[0m \u001b[0;34m\u001b[0m\u001b[0m\n\u001b[0;32m-> 2715\u001b[0;31m             \u001b[0;32mreturn\u001b[0m \u001b[0mself\u001b[0m\u001b[0;34m.\u001b[0m\u001b[0m_call\u001b[0m\u001b[0;34m(\u001b[0m\u001b[0minputs\u001b[0m\u001b[0;34m)\u001b[0m\u001b[0;34m\u001b[0m\u001b[0;34m\u001b[0m\u001b[0m\n\u001b[0m\u001b[1;32m   2716\u001b[0m         \u001b[0;32melse\u001b[0m\u001b[0;34m:\u001b[0m\u001b[0;34m\u001b[0m\u001b[0;34m\u001b[0m\u001b[0m\n\u001b[1;32m   2717\u001b[0m             \u001b[0;32mif\u001b[0m \u001b[0mpy_any\u001b[0m\u001b[0;34m(\u001b[0m\u001b[0mis_tensor\u001b[0m\u001b[0;34m(\u001b[0m\u001b[0mx\u001b[0m\u001b[0;34m)\u001b[0m \u001b[0;32mfor\u001b[0m \u001b[0mx\u001b[0m \u001b[0;32min\u001b[0m \u001b[0minputs\u001b[0m\u001b[0;34m)\u001b[0m\u001b[0;34m:\u001b[0m\u001b[0;34m\u001b[0m\u001b[0;34m\u001b[0m\u001b[0m\n",
      "\u001b[0;32m~/miniconda3/envs/tensorflow/lib/python3.6/site-packages/keras/backend/tensorflow_backend.py\u001b[0m in \u001b[0;36m_call\u001b[0;34m(self, inputs)\u001b[0m\n\u001b[1;32m   2673\u001b[0m             \u001b[0mfetched\u001b[0m \u001b[0;34m=\u001b[0m \u001b[0mself\u001b[0m\u001b[0;34m.\u001b[0m\u001b[0m_callable_fn\u001b[0m\u001b[0;34m(\u001b[0m\u001b[0;34m*\u001b[0m\u001b[0marray_vals\u001b[0m\u001b[0;34m,\u001b[0m \u001b[0mrun_metadata\u001b[0m\u001b[0;34m=\u001b[0m\u001b[0mself\u001b[0m\u001b[0;34m.\u001b[0m\u001b[0mrun_metadata\u001b[0m\u001b[0;34m)\u001b[0m\u001b[0;34m\u001b[0m\u001b[0;34m\u001b[0m\u001b[0m\n\u001b[1;32m   2674\u001b[0m         \u001b[0;32melse\u001b[0m\u001b[0;34m:\u001b[0m\u001b[0;34m\u001b[0m\u001b[0;34m\u001b[0m\u001b[0m\n\u001b[0;32m-> 2675\u001b[0;31m             \u001b[0mfetched\u001b[0m \u001b[0;34m=\u001b[0m \u001b[0mself\u001b[0m\u001b[0;34m.\u001b[0m\u001b[0m_callable_fn\u001b[0m\u001b[0;34m(\u001b[0m\u001b[0;34m*\u001b[0m\u001b[0marray_vals\u001b[0m\u001b[0;34m)\u001b[0m\u001b[0;34m\u001b[0m\u001b[0;34m\u001b[0m\u001b[0m\n\u001b[0m\u001b[1;32m   2676\u001b[0m         \u001b[0;32mreturn\u001b[0m \u001b[0mfetched\u001b[0m\u001b[0;34m[\u001b[0m\u001b[0;34m:\u001b[0m\u001b[0mlen\u001b[0m\u001b[0;34m(\u001b[0m\u001b[0mself\u001b[0m\u001b[0;34m.\u001b[0m\u001b[0moutputs\u001b[0m\u001b[0;34m)\u001b[0m\u001b[0;34m]\u001b[0m\u001b[0;34m\u001b[0m\u001b[0;34m\u001b[0m\u001b[0m\n\u001b[1;32m   2677\u001b[0m \u001b[0;34m\u001b[0m\u001b[0m\n",
      "\u001b[0;32m~/miniconda3/envs/tensorflow/lib/python3.6/site-packages/tensorflow/python/client/session.py\u001b[0m in \u001b[0;36m__call__\u001b[0;34m(self, *args, **kwargs)\u001b[0m\n\u001b[1;32m   1437\u001b[0m           ret = tf_session.TF_SessionRunCallable(\n\u001b[1;32m   1438\u001b[0m               \u001b[0mself\u001b[0m\u001b[0;34m.\u001b[0m\u001b[0m_session\u001b[0m\u001b[0;34m.\u001b[0m\u001b[0m_session\u001b[0m\u001b[0;34m,\u001b[0m \u001b[0mself\u001b[0m\u001b[0;34m.\u001b[0m\u001b[0m_handle\u001b[0m\u001b[0;34m,\u001b[0m \u001b[0margs\u001b[0m\u001b[0;34m,\u001b[0m \u001b[0mstatus\u001b[0m\u001b[0;34m,\u001b[0m\u001b[0;34m\u001b[0m\u001b[0;34m\u001b[0m\u001b[0m\n\u001b[0;32m-> 1439\u001b[0;31m               run_metadata_ptr)\n\u001b[0m\u001b[1;32m   1440\u001b[0m         \u001b[0;32mif\u001b[0m \u001b[0mrun_metadata\u001b[0m\u001b[0;34m:\u001b[0m\u001b[0;34m\u001b[0m\u001b[0;34m\u001b[0m\u001b[0m\n\u001b[1;32m   1441\u001b[0m           \u001b[0mproto_data\u001b[0m \u001b[0;34m=\u001b[0m \u001b[0mtf_session\u001b[0m\u001b[0;34m.\u001b[0m\u001b[0mTF_GetBuffer\u001b[0m\u001b[0;34m(\u001b[0m\u001b[0mrun_metadata_ptr\u001b[0m\u001b[0;34m)\u001b[0m\u001b[0;34m\u001b[0m\u001b[0;34m\u001b[0m\u001b[0m\n",
      "\u001b[0;31mKeyboardInterrupt\u001b[0m: "
     ]
    }
   ],
   "source": [
    "for e in range(EPISODES):\n",
    "    print(f\"Episode: {e}\")\n",
    "    state = btc_env.reset().reshape((1, WINDOW + 2))\n",
    "    actions = []\n",
    "    for d in range(len(train_days)):\n",
    "        action = trader_agent.act(state)\n",
    "        next_state, reward, done = btc_env.step(action)\n",
    "        next_state = next_state.reshape((1, WINDOW + 2))\n",
    "        trader_agent.remember(state, action, reward, next_state, done)\n",
    "        state = next_state\n",
    "        actions.append(action)\n",
    "\n",
    "        if d % 100 == 0:\n",
    "            print(f\"Btc: {btc_env.btc}\")\n",
    "            print(f\"Budget: {btc_env.budget}\")\n",
    "        if done:\n",
    "            break\n",
    "        if len(trader_agent.memory) > 64:\n",
    "            trader_agent.replay(BATCH_SZ)\n",
    "    \n",
    "    plt_choices(train_days['Mean'].values[WINDOW:], np.array(actions))\n",
    "    actions, rewards, btcs, budget = test_trader(trader_agent, btc_env)\n",
    "    plt_choices(train_days['Mean'].values[WINDOW:], np.array(actions))"
   ]
  },
  {
   "cell_type": "code",
   "execution_count": null,
   "metadata": {
    "scrolled": false
   },
   "outputs": [],
   "source": [
    "btc_test_env = dqn.BitcoinStockEnvironment(test_days['Mean'].values, BUDGET, WINDOW)\n",
    "actions, rewards, btcs, budget = test_trader(trader_agent, btc_test_env)\n",
    "plt_choices(test_days['Mean'].values[WINDOW:], np.array(actions))\n",
    "rewards"
   ]
  },
  {
   "cell_type": "code",
   "execution_count": null,
   "metadata": {},
   "outputs": [],
   "source": [
    "btc_test_env.current_liquidity"
   ]
  },
  {
   "cell_type": "code",
   "execution_count": null,
   "metadata": {},
   "outputs": [],
   "source": [
    "btc_env.norm_windows.reshape((btc_env.norm_windows.shape[0], btc_env.norm_windows.shape[1], 1)).shape"
   ]
  },
  {
   "cell_type": "code",
   "execution_count": null,
   "metadata": {},
   "outputs": [],
   "source": [
    "len(results), len(train_days['Mean'][WINDOW:].values)\n",
    "#len(list(filter(lambda r: r == 0, results)))"
   ]
  },
  {
   "cell_type": "code",
   "execution_count": null,
   "metadata": {},
   "outputs": [],
   "source": []
  },
  {
   "cell_type": "code",
   "execution_count": null,
   "metadata": {},
   "outputs": [],
   "source": [
    "plt_choices(train_days['Mean'][WINDOW:].values, np.array(results))"
   ]
  },
  {
   "cell_type": "code",
   "execution_count": null,
   "metadata": {},
   "outputs": [],
   "source": []
  }
 ],
 "metadata": {
  "kernelspec": {
   "display_name": "Python 3",
   "language": "python",
   "name": "python3"
  },
  "language_info": {
   "codemirror_mode": {
    "name": "ipython",
    "version": 3
   },
   "file_extension": ".py",
   "mimetype": "text/x-python",
   "name": "python",
   "nbconvert_exporter": "python",
   "pygments_lexer": "ipython3",
   "version": "3.6.7"
  }
 },
 "nbformat": 4,
 "nbformat_minor": 2
}
